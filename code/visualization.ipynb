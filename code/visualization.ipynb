{
 "cells": [
  {
   "cell_type": "code",
   "execution_count": 1,
   "metadata": {
    "collapsed": true,
    "pycharm": {
     "name": "#%%\n"
    }
   },
   "outputs": [],
   "source": [
    "import pandas as pd\n",
    "import matplotlib.pyplot as plt"
   ]
  },
  {
   "cell_type": "code",
   "execution_count": 2,
   "outputs": [],
   "source": [
    "def get_avg_reward(df, num_avg = 50):\n",
    "    avg_rewards = [df['reward'].values[0]]\n",
    "    episodes = [df['episode'].values[0]]\n",
    "\n",
    "    for i in range(int(len(df)/num_avg)):\n",
    "        episodes.append(df[(i+1)*num_avg-1:(i+1)*num_avg]['episode'].values[0]+1)\n",
    "        avg_rewards.append(df[i*num_avg:(i+1)*num_avg].mean()[1])\n",
    "\n",
    "    return pd.DataFrame({'reward':avg_rewards, 'episode': episodes})"
   ],
   "metadata": {
    "collapsed": false,
    "pycharm": {
     "name": "#%%\n"
    }
   }
  },
  {
   "cell_type": "code",
   "execution_count": 3,
   "outputs": [],
   "source": [
    "def get_axes(num_graph, n_rows):\n",
    "    assert num_graph % n_rows == 0, \"Invalid n_rows\"\n",
    "    _, axes = plt.subplots(nrows=n_rows, ncols=int(num_graph/n_rows), figsize = (5*(num_graph/n_rows),5*n_rows))\n",
    "\n",
    "    if axes.shape[0] == num_graph:\n",
    "        return axes\n",
    "    else:\n",
    "        axes_list = []\n",
    "        for x in range(len(axes)):\n",
    "            for y in range(len(axes[0])):\n",
    "                axes_list.append(axes[x][y])\n",
    "        return axes_list\n"
   ],
   "metadata": {
    "collapsed": false,
    "pycharm": {
     "name": "#%%\n"
    }
   }
  },
  {
   "cell_type": "code",
   "execution_count": 16,
   "outputs": [],
   "source": [
    "def draw_plot(path_list, num=50, n_rows=1, file_name='default.png'):\n",
    "    axes = get_axes(num_graph=len(path_list), n_rows=n_rows)\n",
    "    for idx in range(len(path_list)):\n",
    "        df = pd.read_csv(path_list[idx])\n",
    "        draw_df = get_avg_reward(df, num)\n",
    "        axes[idx].set_xlabel('Training Episodes')\n",
    "        axes[idx].set_ylabel('Average Reward per Episode')\n",
    "        axes[idx].set_title(path_list[idx].split('/')[-1].split('.')[0])\n",
    "        axes[idx].plot(draw_df['episode'],draw_df['reward'],color=\"green\")\n",
    "    plt.savefig(file_name)\n",
    "    plt.show()"
   ],
   "metadata": {
    "collapsed": false,
    "pycharm": {
     "name": "#%%\n"
    }
   }
  },
  {
   "cell_type": "code",
   "execution_count": 1,
   "outputs": [
    {
     "ename": "NameError",
     "evalue": "name 'draw_plot' is not defined",
     "output_type": "error",
     "traceback": [
      "\u001B[1;31m---------------------------------------------------------------------------\u001B[0m",
      "\u001B[1;31mNameError\u001B[0m                                 Traceback (most recent call last)",
      "\u001B[1;32m<ipython-input-1-e63a8a1018df>\u001B[0m in \u001B[0;36m<module>\u001B[1;34m\u001B[0m\n\u001B[0;32m      5\u001B[0m third_exp_list = ['./results/Pong.csv', 'results/Qbert.csv', 'results/Enduro.csv', 'results/B_Rider.csv',\n\u001B[0;32m      6\u001B[0m                   'results/Seaquest.csv', 'results/Breakout.csv', 'results/S_Invaders.csv']\n\u001B[1;32m----> 7\u001B[1;33m \u001B[0mdraw_plot\u001B[0m\u001B[1;33m(\u001B[0m\u001B[0mfirst_exp_list\u001B[0m\u001B[1;33m,\u001B[0m\u001B[1;36m100\u001B[0m\u001B[1;33m,\u001B[0m\u001B[1;36m1\u001B[0m\u001B[1;33m)\u001B[0m\u001B[1;33m\u001B[0m\u001B[1;33m\u001B[0m\u001B[0m\n\u001B[0m\u001B[0;32m      8\u001B[0m \u001B[0mdraw_plot\u001B[0m\u001B[1;33m(\u001B[0m\u001B[0mfirst_exp_list\u001B[0m\u001B[1;33m,\u001B[0m\u001B[1;36m100\u001B[0m\u001B[1;33m,\u001B[0m\u001B[1;36m1\u001B[0m\u001B[1;33m)\u001B[0m\u001B[1;33m\u001B[0m\u001B[1;33m\u001B[0m\u001B[0m\n",
      "\u001B[1;31mNameError\u001B[0m: name 'draw_plot' is not defined"
     ]
    }
   ],
   "source": [
    "first_exp_list = ['./results/Pong.csv', 'results/Qbert.csv', 'results/Enduro.csv', 'results/B_Rider.csv',\n",
    "                  'results/Seaquest.csv', 'results/Breakout.csv', 'results/S_Invaders.csv']\n",
    "second_exp_list = ['./results/Pong.csv', 'results/Qbert.csv', 'results/Enduro.csv', 'results/B_Rider.csv',\n",
    "                  'results/Seaquest.csv', 'results/Breakout.csv', 'results/S_Invaders.csv']\n",
    "third_exp_list = ['./results/Pong.csv', 'results/Qbert.csv', 'results/Enduro.csv', 'results/B_Rider.csv',\n",
    "                  'results/Seaquest.csv', 'results/Breakout.csv', 'results/S_Invaders.csv']\n",
    "draw_plot(first_exp_list,100,1)\n",
    "draw_plot(second_exp_list,100,1)\n",
    "draw_plot(third_exp_list,100,1)"
   ],
   "metadata": {
    "collapsed": false,
    "pycharm": {
     "name": "#%%\n"
    }
   }
  },
  {
   "cell_type": "code",
   "execution_count": null,
   "outputs": [],
   "source": [],
   "metadata": {
    "collapsed": false,
    "pycharm": {
     "name": "#%%\n"
    }
   }
  }
 ],
 "metadata": {
  "kernelspec": {
   "display_name": "Python 3",
   "language": "python",
   "name": "python3"
  },
  "language_info": {
   "codemirror_mode": {
    "name": "ipython",
    "version": 2
   },
   "file_extension": ".py",
   "mimetype": "text/x-python",
   "name": "python",
   "nbconvert_exporter": "python",
   "pygments_lexer": "ipython2",
   "version": "2.7.6"
  }
 },
 "nbformat": 4,
 "nbformat_minor": 0
}